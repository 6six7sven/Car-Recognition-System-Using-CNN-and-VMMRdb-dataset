{
 "cells": [
  {
   "cell_type": "code",
   "execution_count": 173,
   "id": "fc3e02cc",
   "metadata": {},
   "outputs": [],
   "source": [
    "import numpy as np\n",
    "import torch\n",
    "import os\n",
    "\n",
    "from torch import optim\n",
    "from torch.utils.data.dataset import Dataset\n",
    "from torch.utils.data import DataLoader\n",
    "from torchvision import transforms\n",
    "from torch import nn\n",
    "from torch.optim import SGD\n",
    "from torch.autograd import Variable\n",
    "from torch.utils.data import DataLoader \n",
    "from torchvision.models import resnet\n",
    "\n",
    "from numpy import unravel_index\n",
    "import gc\n",
    "\n",
    "from PIL import Image\n",
    "from os import path\n",
    "from glob import glob\n",
    "\n",
    "import random\n",
    "\n",
    "from matplotlib import pyplot as plt\n",
    "from sklearn.metrics import accuracy_score\n",
    "from sklearn.metrics import confusion_matrix\n",
    "from sklearn.metrics import f1_score\n",
    "\n",
    "from config1 import *"
   ]
  },
  {
   "cell_type": "code",
   "execution_count": 174,
   "id": "68309fd2",
   "metadata": {},
   "outputs": [
    {
     "data": {
      "text/plain": [
       "16"
      ]
     },
     "execution_count": 174,
     "metadata": {},
     "output_type": "execute_result"
    }
   ],
   "source": [
    "BATCH_SIZE"
   ]
  },
  {
   "cell_type": "code",
   "execution_count": 144,
   "id": "db48dc5f",
   "metadata": {},
   "outputs": [],
   "source": [
    "IMAGES_PATH=\"C:/Users/Sushant/CarREc/data\""
   ]
  },
  {
   "cell_type": "code",
   "execution_count": 145,
   "id": "a1336040",
   "metadata": {},
   "outputs": [
    {
     "name": "stdout",
     "output_type": "stream",
     "text": [
      "['C:/Users/Sushant/CarREc/data/honda_accord_2015/', 'C:/Users/Sushant/CarREc/data/honda_city_2004/', 'C:/Users/Sushant/CarREc/data/honda_civic_2014/']\n"
     ]
    }
   ],
   "source": [
    "dirs = glob(IMAGES_PATH + \"/*/\")\n",
    "dirs = [dir.replace(\"\\\\\", \"/\") for dir in dirs]\n",
    "print(dirs)"
   ]
  },
  {
   "cell_type": "code",
   "execution_count": 146,
   "id": "e134444b",
   "metadata": {},
   "outputs": [
    {
     "name": "stdout",
     "output_type": "stream",
     "text": [
      "Classes: \n",
      "{'honda_accord_2015': 0, 'honda_city_2004': 1, 'honda_civic_2014': 2}\n",
      "\n"
     ]
    }
   ],
   "source": [
    "num_classes = {}\n",
    "\n",
    "i = 0\n",
    "for d in dirs:\n",
    "    d = d.replace(IMAGES_PATH, \"\")\n",
    "    d = d.replace(\"/\", \"\")\n",
    "    d = d.replace(\"\\\\\", \"\")\n",
    "    if \" \" in d:\n",
    "        d = d.replace(\" \", \"_\")\n",
    "    num_classes[d] = i\n",
    "    i+=1\n",
    "\n",
    "print (\"Classes: \")\n",
    "print (num_classes)\n",
    "print (\"\")"
   ]
  },
  {
   "cell_type": "code",
   "execution_count": 152,
   "id": "9080c0e3",
   "metadata": {},
   "outputs": [
    {
     "name": "stdout",
     "output_type": "stream",
     "text": [
      "tensor([4.7581, 4.7827, 4.7350])\n"
     ]
    }
   ],
   "source": [
    "# read mean and dev. standard pre-computed\n",
    "m = 0\n",
    "s = 0\n",
    "if os.path.isfile('./mean_devstd.txt'):\n",
    "    m_s = open(\"mean_devstd.txt\", \"r\").read()\n",
    "    if \",\" in m_s:\n",
    "        m_s = m_s.replace(\"\\n\", \"\")\n",
    "        m_s = m_s.replace(\"tensor\", \"\")\n",
    "        m_s = m_s.replace(\"(\", \"\")\n",
    "        m_s = m_s.replace(\")\", \"\")\n",
    "        m_s = m_s.split(\",\")\n",
    "        m = torch.Tensor( [float(m_s[0]), float(m_s[1]), float(m_s[2])] )\n",
    "        s = torch.Tensor( [float(m_s[3]), float(m_s[4]), float(m_s[5])] )\n",
    "print(m)"
   ]
  },
  {
   "cell_type": "code",
   "execution_count": 153,
   "id": "c0ff4753",
   "metadata": {},
   "outputs": [
    {
     "data": {
      "text/plain": [
       "'honda_civic_2014'"
      ]
     },
     "execution_count": 153,
     "metadata": {},
     "output_type": "execute_result"
    }
   ],
   "source": [
    "def get_class(idx):\n",
    "    #print (num_classes)\n",
    "    for key in num_classes:\n",
    "        if idx == num_classes[key]:\n",
    "            return key\n",
    "get_class(2)"
   ]
  },
  {
   "cell_type": "code",
   "execution_count": 154,
   "id": "84b09427",
   "metadata": {},
   "outputs": [],
   "source": [
    "def pre():\n",
    "    train_csv = \"\"\n",
    "    test_csv  = \"\"\n",
    "    train_csv_supp = []\n",
    "    test_csv_supp = []\n",
    "    class_files_training = []\n",
    "    class_files_testing  = []\n",
    "\n",
    "    for key in num_classes:\n",
    "        if \" \" in key:\n",
    "            os.rename(IMAGES_PATH+\"/\"+key, IMAGES_PATH+\"/\"+key.replace(\" \", \"_\"))\n",
    "            key = key.replace(\" \", \"_\")  \n",
    "            \n",
    "        class_files = glob(IMAGES_PATH+\"/\"+str(key)+\"/*\")\n",
    "        class_files = [w.replace(IMAGES_PATH+\"/\"+str(key)+\"/\", \"\") for w in class_files]\n",
    "        class_files.sort()\n",
    "\n",
    "        class_files_training = class_files[: int(len(class_files)*.73)] # get 73% class images for training\n",
    "        class_files_testing = class_files[int(len(class_files)*.27)+1 :] # get 27% class images for testing\n",
    "\n",
    "        for f in class_files_training:\n",
    "            if \",\" in f or \"#\" in f or \" \" in f:\n",
    "                tmp_f = f.replace(\",\", \"\")\n",
    "                tmp_f = tmp_f.replace(\"#\", \"\")\n",
    "                tmp_f = tmp_f.replace(\" \", \"_\")\n",
    "                tmp_f = tmp_f.replace(\"\\\\\", \"/\")\n",
    "                os.rename(os.path.join(IMAGES_PATH, key, f), os.path.join(IMAGES_PATH, key, tmp_f))\n",
    "                f = tmp_f\n",
    "            train_csv_supp.append(f + \",\"+str(key))\n",
    "\n",
    "        for f in class_files_testing:\n",
    "            if \",\" in f or \"#\" in f or \" \" in f:\n",
    "                tmp_f = f.replace(\",\", \"\")\n",
    "                tmp_f = tmp_f.replace(\"#\", \"\")\n",
    "                tmp_f = tmp_f.replace(\" \", \"_\")\n",
    "                tmp_f = tmp_f.replace(\"\\\\\", \"/\")\n",
    "                os.rename(os.path.join(IMAGES_PATH, key, f), os.path.join(IMAGES_PATH, key, tmp_f))\n",
    "                f = tmp_f\n",
    "            test_csv_supp.append(f + \",\"+str(key))\n",
    "\n",
    "    random.shuffle(train_csv_supp)\n",
    "    random.shuffle(test_csv_supp)\n",
    "\n",
    "    for t in train_csv_supp:\n",
    "        train_csv += t + \"\\n\"\n",
    "    \n",
    "    for t in test_csv_supp:\n",
    "        test_csv += t + \"\\n\"\n",
    "\n",
    "    train_csv_file = open(\"train_file.csv\", \"w+\")\n",
    "    train_csv_file.write(train_csv)\n",
    "    train_csv_file.close()\n",
    "\n",
    "    test_csv_file = open(\"test_file.csv\", \"w+\")\n",
    "    test_csv_file.write(test_csv)\n",
    "    test_csv_file.close()\n",
    "pre()"
   ]
  },
  {
   "cell_type": "code",
   "execution_count": 155,
   "id": "2c0dd746",
   "metadata": {},
   "outputs": [
    {
     "name": "stdout",
     "output_type": "stream",
     "text": [
      "Loading dataset...\n",
      "Calculating mean & dev std...\n",
      "Calculated mean and standard deviation!\n"
     ]
    }
   ],
   "source": [
    "def calc():\n",
    "        # Algorithms to calculate mean and standard_deviation\n",
    "    print(\"Loading dataset...\")\n",
    "    dataset = LocalDataset(IMAGES_PATH, TRAINING_PATH, transform=transforms.ToTensor())\n",
    "    print(\"Calculating mean & dev std...\")\n",
    "    \n",
    "    m = torch.zeros(3) # Mean\n",
    "    s = torch.zeros(3) # Standard Deviation\n",
    "    for sample in dataset:\n",
    "        m += sample['image'].sum(1).sum(1)\n",
    "        s += ((sample['image']-m.view(3,1,1))**2).sum(1).sum(1)\n",
    "    m /= len(dataset)*256*144    \n",
    "    s = torch.sqrt(s/(len(dataset)*256*144))\n",
    "\n",
    "    print(\"Calculated mean and standard deviation!\")\n",
    "    str_m = str(m[0])+\",\"+str(m[1])+\",\"+str(m[2])\n",
    "    str_s = str(s[0])+\",\"+str(s[1])+\",\"+str(s[2])\n",
    "    file = open(\"mean_devstd.txt\", \"w+\")\n",
    "    file.write(str(str_m)+\",\"+str(str_s))\n",
    "    file.close()\n",
    "calc()"
   ]
  },
  {
   "cell_type": "code",
   "execution_count": 156,
   "id": "a949b0cb",
   "metadata": {},
   "outputs": [],
   "source": [
    "class LocalDataset(Dataset):\n",
    "\n",
    "    def __init__(self, base_path, txt_list, transform=None):\n",
    "        self.base_path=base_path\n",
    "        self.images = np.loadtxt(txt_list,delimiter=',',dtype='str') # use np.genfrom() instead of np.loadtxt() to skip errors\n",
    "\n",
    "        self.transform = transform\n",
    "\n",
    "    def __getitem__(self, index):\n",
    "        f,c = self.images[index]\n",
    "\n",
    "        image_path = path.join(self.base_path + \"/\" + str(c), f)\n",
    "        im = Image.open(image_path).convert('RGB')\n",
    "\n",
    "        if self.transform is not None:\n",
    "            im = self.transform(im)\n",
    "\n",
    "        label = num_classes[c]\n",
    "\n",
    "        return { 'image' : im, 'label':label, 'img_name': f }\n",
    "\n",
    "    def __len__(self):\n",
    "        return len(self.images)"
   ]
  },
  {
   "cell_type": "code",
   "execution_count": 157,
   "id": "21168bb7",
   "metadata": {},
   "outputs": [
    {
     "data": {
      "text/plain": [
       "{'honda_accord_2015': 0, 'honda_city_2004': 1, 'honda_civic_2014': 2}"
      ]
     },
     "execution_count": 157,
     "metadata": {},
     "output_type": "execute_result"
    }
   ],
   "source": [
    "num_classes"
   ]
  },
  {
   "cell_type": "code",
   "execution_count": 158,
   "id": "0e4a6bf7",
   "metadata": {},
   "outputs": [],
   "source": [
    "cuda_available=torch.cuda.is_available()"
   ]
  },
  {
   "cell_type": "code",
   "execution_count": 159,
   "id": "56f5532d",
   "metadata": {},
   "outputs": [],
   "source": [
    "mean=m\n",
    "std_dev=s\n",
    "\n",
    "transform = transforms.Compose([transforms.Resize((224,224)),\n",
    "                                    transforms.ToTensor(),\n",
    "                                    transforms.Normalize(mean, std_dev)])\n",
    "\n",
    "training_set = LocalDataset(IMAGES_PATH, TRAINING_PATH, transform=transform)\n",
    "validation_set = LocalDataset(IMAGES_PATH, VALIDATION_PATH, transform=transform)\n",
    "\n",
    "training_set_loader = DataLoader(dataset=training_set, batch_size=BATCH_SIZE, num_workers=0, shuffle=True)\n",
    "validation_set_loader = DataLoader(dataset=validation_set, batch_size=BATCH_SIZE, num_workers=0, shuffle=False)\n"
   ]
  },
  {
   "cell_type": "code",
   "execution_count": 160,
   "id": "5091e881",
   "metadata": {},
   "outputs": [],
   "source": [
    "def train_model(model_name, model, lr=LEARNING_RATE, epochs=EPOCHS, momentum=MOMENTUM, weight_decay=0, train_loader=training_set_loader, test_loader=validation_set_loader):\n",
    "\n",
    "    if not os.path.exists(RESULTS_PATH + \"/\" + model_name):\n",
    "        os.makedirs(RESULTS_PATH + \"/\" + model_name)\n",
    "    \n",
    "    criterion = nn.CrossEntropyLoss()\n",
    "    optimizer = SGD(model.parameters(), lr, momentum=momentum, weight_decay=weight_decay)\n",
    "\n",
    "    loaders = {'train':train_loader, 'test':test_loader}\n",
    "    losses = {'train':[], 'test':[]}\n",
    "    accuracies = {'train':[], 'test':[]}\n",
    "\n",
    "    #testing variables\n",
    "    y_testing = []\n",
    "    preds = []\n",
    "\n",
    "    if USE_CUDA and cuda_available:\n",
    "        model=model.cuda()\n",
    "\n",
    "    for e in range(epochs):\n",
    "        for mode in ['train', 'test']:\n",
    "            if mode=='train':\n",
    "                model.train()\n",
    "            else:\n",
    "                model.eval()\n",
    "\n",
    "            epoch_loss = 0\n",
    "            epoch_acc = 0\n",
    "            samples = 0\n",
    "\n",
    "            try:\n",
    "                for i, batch in enumerate(loaders[mode]):\n",
    "                    # convert tensor to variable\n",
    "                    x=Variable(batch['image'], requires_grad=(mode=='train'))\n",
    "                    y=Variable(batch['label'])\n",
    "\n",
    "                    if USE_CUDA and cuda_available:\n",
    "                        x = x.cuda()\n",
    "                        y = y.cuda()\n",
    "\n",
    "                    output = model(x)\n",
    "                    l = criterion(output, y) # loss\n",
    "\n",
    "                    if mode=='train':\n",
    "                        l.backward()\n",
    "                        optimizer.step()\n",
    "                        optimizer.zero_grad()\n",
    "                    else:\n",
    "                        y_testing.extend(y.data.tolist())\n",
    "                        preds.extend(output.max(1)[1].tolist())\n",
    "                    \n",
    "                    if USE_CUDA and cuda_available:\n",
    "                        acc = accuracy_score(y.data.cuda().cpu().numpy(), output.max(1)[1].cuda().cpu().numpy())\n",
    "                    else:\n",
    "                        acc = accuracy_score(y.data, output.max(1)[1])\n",
    "\n",
    "                    epoch_loss += l.data.item()*x.shape[0] # l.data[0]\n",
    "                    epoch_acc += acc*x.shape[0]\n",
    "                    samples += x.shape[0]\n",
    "\n",
    "                    print (\"\\r[%s] Epoch %d/%d. Iteration %d/%d. Loss: %0.2f. Accuracy: %0.2f\" % \\\n",
    "                        (mode, e+1, epochs, i, len(loaders[mode]), epoch_loss/samples, epoch_acc/samples))\n",
    "\n",
    "                    if DEBUG and i == 2:\n",
    "                        break\n",
    "            except Exception as err:\n",
    "                print (\"\\n\\n######### ERROR #######\")\n",
    "                print (str(err))\n",
    "                print (\"\\n\\n######### batch #######\")\n",
    "                print (batch['img_name'])\n",
    "                print (\"\\n\\n\")\n",
    "\n",
    "            epoch_loss /= samples\n",
    "            epoch_acc /= samples\n",
    "            \n",
    "            losses[mode].append(epoch_loss)\n",
    "            accuracies[mode].append(epoch_acc)\n",
    "\n",
    "\n",
    "            print (\"\\r[%s] Epoch %d/%d. Iteration %d/%d. Loss: %0.2f. Accuracy: %0.2f\" % \\\n",
    "                  (mode, e+1, epochs, i, len(loaders[mode]), epoch_loss, epoch_acc))\n",
    "            \n",
    "    torch.save(model.state_dict(), str(RESULTS_PATH) + \"/\" + str(model_name) + \"/\" + str(model_name) + \".pt\")\n",
    "    return model, (losses, accuracies), y_testing, preds"
   ]
  },
  {
   "cell_type": "code",
   "execution_count": 161,
   "id": "0d8a2f6d",
   "metadata": {},
   "outputs": [],
   "source": [
    "def test_model(model_name, model, test_loader = validation_set_loader):\n",
    "    model.load_state_dict(torch.load(str(RESULTS_PATH) + \"/\" + str(model_name) + \"/\" + str(model_name) + \".pt\"))\n",
    "\n",
    "    if USE_CUDA and cuda_available:\n",
    "        model = model.cuda()\n",
    "\n",
    "    model.eval()\n",
    "\n",
    "    preds = []\n",
    "    gts = []\n",
    "\n",
    "    #debug\n",
    "    i = 0\n",
    "    \n",
    "    for batch in test_loader:\n",
    "        x = Variable(batch['image'])\n",
    "\n",
    "        if USE_CUDA and cuda_available:\n",
    "            x = x.cuda()\n",
    "            pred = model(x).data.cuda().cpu().numpy().copy()\n",
    "        else:\n",
    "            pred = model(x).data.numpy().copy()\n",
    "\n",
    "        gt = batch['label'].numpy().copy()\n",
    "        preds.append(pred)\n",
    "        gts.append(gt)\n",
    "\n",
    "        # debug\n",
    "        if DEBUG:\n",
    "            if i == 2:\n",
    "                break\n",
    "            else:\n",
    "                i+=1\n",
    "\n",
    "    return np.concatenate(preds), np.concatenate(gts)"
   ]
  },
  {
   "cell_type": "code",
   "execution_count": 162,
   "id": "4cff5339",
   "metadata": {},
   "outputs": [],
   "source": [
    "def write_stats(model_name, y, predictions, gts, predictions2):\n",
    "    if not os.path.exists(RESULTS_PATH + \"/\" + model_name):\n",
    "        os.makedirs(RESULTS_PATH + \"/\" + model_name)\n",
    "\n",
    "    acc = accuracy_score(gts, predictions2.argmax(1))\n",
    "    cm = confusion_matrix(y, predictions)\n",
    "\n",
    "    if DEBUG:\n",
    "      score = \"00 F1_SCORE 00\"\n",
    "    else:\n",
    "      score = f1_score(y, predictions, average=None)\n",
    "    \n",
    "    file = open(str(RESULTS_PATH) + \"/\" + str(model_name) + \"/\" + str(model_name) + \"_stats.txt\", \"w+\")\n",
    "    file.write (\"Accuracy: \" + str(acc) + \"\\n\\n\")\n",
    "    file.write(\"Confusion Matrix: \\n\" + str(cm) + \"\\n\\n\")\n",
    "    file.write(\"F1 Score: \\n\" + str(score))\n",
    "    file.close()\n"
   ]
  },
  {
   "cell_type": "code",
   "execution_count": 166,
   "id": "8fc5fa49",
   "metadata": {},
   "outputs": [],
   "source": [
    "def plot_logs_classification(model_name, logs):\n",
    "    if not os.path.exists(RESULTS_PATH + \"/\" + model_name):\n",
    "        os.makedirs(RESULTS_PATH + \"/\" + model_name)\n",
    "\n",
    "    training_losses, training_accuracies, test_losses, test_accuracies = \\\n",
    "        logs[0]['train'], logs[1]['train'], logs[0]['test'], logs[1]['test']\n",
    "\n",
    "    plt.figure(figsize=(18,6))\n",
    "    plt.subplot(121)\n",
    "    plt.plot(training_losses)\n",
    "    plt.plot(test_losses)\n",
    "    plt.legend(['Training Loss','Test Losses'])\n",
    "    plt.grid()\n",
    "    plt.subplot(122)\n",
    "    plt.plot(training_accuracies)\n",
    "    plt.plot(test_accuracies)\n",
    "    plt.legend(['Training Accuracy','Test Accuracy'])\n",
    "    plt.grid()\n",
    "    #plt.show()\n",
    "    plt.savefig(str(RESULTS_PATH) + \"/\" + str(model_name) + \"/\" + str(model_name) + \"_graph.png\")"
   ]
  },
  {
   "cell_type": "code",
   "execution_count": 164,
   "id": "be687a4f",
   "metadata": {},
   "outputs": [
    {
     "data": {
      "text/plain": [
       "8365"
      ]
     },
     "execution_count": 164,
     "metadata": {},
     "output_type": "execute_result"
    }
   ],
   "source": [
    "def train_model_iter(model_name, model, weight_decay=0):\n",
    "\n",
    "    results = train_model(model_name=model_name, model=model, weight_decay=weight_decay)\n",
    "    model, loss_acc, y_testing, preds = results[0], results[1], results[2], results[3]\n",
    "\n",
    "    preds_test, gts = test_model(model_name, model=model)\n",
    "\n",
    "    write_stats(model_name, y_testing, preds, gts, preds_test)\n",
    "    plot_logs_classification(model_name, loss_acc)\n",
    "\n",
    "gc.collect()"
   ]
  },
  {
   "cell_type": "code",
   "execution_count": 167,
   "id": "b588cf57",
   "metadata": {
    "scrolled": false
   },
   "outputs": [
    {
     "name": "stderr",
     "output_type": "stream",
     "text": [
      "C:\\Users\\Sushant\\.conda\\envs\\my\\Lib\\site-packages\\torchvision\\models\\_utils.py:208: UserWarning: The parameter 'pretrained' is deprecated since 0.13 and may be removed in the future, please use 'weights' instead.\n",
      "  warnings.warn(\n",
      "C:\\Users\\Sushant\\.conda\\envs\\my\\Lib\\site-packages\\torchvision\\models\\_utils.py:223: UserWarning: Arguments other than a weight enum or `None` for 'weights' are deprecated since 0.13 and may be removed in the future. The current behavior is equivalent to passing `weights=None`.\n",
      "  warnings.warn(msg)\n"
     ]
    },
    {
     "name": "stdout",
     "output_type": "stream",
     "text": [
      "[train] Epoch 1/10. Iteration 0/5. Loss: 0.84. Accuracy: 0.67\n",
      "[train] Epoch 1/10. Iteration 1/5. Loss: 0.83. Accuracy: 0.71\n",
      "[train] Epoch 1/10. Iteration 2/5. Loss: 1.11. Accuracy: 0.61\n",
      "[train] Epoch 1/10. Iteration 3/5. Loss: 1.81. Accuracy: 0.60\n",
      "[train] Epoch 1/10. Iteration 4/5. Loss: 1.61. Accuracy: 0.63\n",
      "[train] Epoch 1/10. Iteration 4/5. Loss: 1.61. Accuracy: 0.63\n",
      "[test] Epoch 1/10. Iteration 0/5. Loss: 583625408512.00. Accuracy: 0.50\n",
      "[test] Epoch 1/10. Iteration 1/5. Loss: 583734263808.00. Accuracy: 0.42\n",
      "[test] Epoch 1/10. Iteration 2/5. Loss: 535116950186.67. Accuracy: 0.44\n",
      "[test] Epoch 1/10. Iteration 3/5. Loss: 529053384704.00. Accuracy: 0.44\n",
      "[test] Epoch 1/10. Iteration 4/5. Loss: 568387174400.00. Accuracy: 0.42\n",
      "[test] Epoch 1/10. Iteration 4/5. Loss: 568387174400.00. Accuracy: 0.42\n",
      "[train] Epoch 2/10. Iteration 0/5. Loss: 3.40. Accuracy: 0.50\n",
      "[train] Epoch 2/10. Iteration 1/5. Loss: 2.84. Accuracy: 0.54\n",
      "[train] Epoch 2/10. Iteration 2/5. Loss: 2.44. Accuracy: 0.56\n",
      "[train] Epoch 2/10. Iteration 3/5. Loss: 2.08. Accuracy: 0.60\n",
      "[train] Epoch 2/10. Iteration 4/5. Loss: 2.54. Accuracy: 0.58\n",
      "[train] Epoch 2/10. Iteration 4/5. Loss: 2.54. Accuracy: 0.58\n",
      "[test] Epoch 2/10. Iteration 0/5. Loss: 1147648999424.00. Accuracy: 0.42\n",
      "[test] Epoch 2/10. Iteration 1/5. Loss: 923425406976.00. Accuracy: 0.54\n",
      "[test] Epoch 2/10. Iteration 2/5. Loss: 965217878016.00. Accuracy: 0.53\n",
      "[test] Epoch 2/10. Iteration 3/5. Loss: 942413987840.00. Accuracy: 0.54\n",
      "[test] Epoch 2/10. Iteration 4/5. Loss: 924821791151.16. Accuracy: 0.54\n",
      "[test] Epoch 2/10. Iteration 4/5. Loss: 924821791151.16. Accuracy: 0.54\n",
      "[train] Epoch 3/10. Iteration 0/5. Loss: 0.63. Accuracy: 0.83\n",
      "[train] Epoch 3/10. Iteration 1/5. Loss: 1.04. Accuracy: 0.79\n",
      "[train] Epoch 3/10. Iteration 2/5. Loss: 3.63. Accuracy: 0.64\n",
      "[train] Epoch 3/10. Iteration 3/5. Loss: 3.10. Accuracy: 0.67\n",
      "[train] Epoch 3/10. Iteration 4/5. Loss: 2.70. Accuracy: 0.70\n",
      "[train] Epoch 3/10. Iteration 4/5. Loss: 2.70. Accuracy: 0.70\n",
      "[test] Epoch 3/10. Iteration 0/5. Loss: 469267251200.00. Accuracy: 0.42\n",
      "[test] Epoch 3/10. Iteration 1/5. Loss: 375719657472.00. Accuracy: 0.54\n",
      "[test] Epoch 3/10. Iteration 2/5. Loss: 391565803520.00. Accuracy: 0.53\n",
      "[test] Epoch 3/10. Iteration 3/5. Loss: 381853122560.00. Accuracy: 0.54\n",
      "[test] Epoch 3/10. Iteration 4/5. Loss: 375800159824.84. Accuracy: 0.54\n",
      "[test] Epoch 3/10. Iteration 4/5. Loss: 375800159824.84. Accuracy: 0.54\n",
      "[train] Epoch 4/10. Iteration 0/5. Loss: 3.61. Accuracy: 0.75\n",
      "[train] Epoch 4/10. Iteration 1/5. Loss: 3.91. Accuracy: 0.71\n",
      "[train] Epoch 4/10. Iteration 2/5. Loss: 4.19. Accuracy: 0.67\n",
      "[train] Epoch 4/10. Iteration 3/5. Loss: 3.56. Accuracy: 0.65\n",
      "[train] Epoch 4/10. Iteration 4/5. Loss: 3.13. Accuracy: 0.67\n",
      "[train] Epoch 4/10. Iteration 4/5. Loss: 3.13. Accuracy: 0.67\n",
      "[test] Epoch 4/10. Iteration 0/5. Loss: 100929642496.00. Accuracy: 0.42\n",
      "[test] Epoch 4/10. Iteration 1/5. Loss: 80716068864.00. Accuracy: 0.54\n",
      "[test] Epoch 4/10. Iteration 2/5. Loss: 84061963605.33. Accuracy: 0.53\n",
      "[test] Epoch 4/10. Iteration 3/5. Loss: 81953502208.00. Accuracy: 0.54\n",
      "[test] Epoch 4/10. Iteration 4/5. Loss: 80708796847.16. Accuracy: 0.54\n",
      "[test] Epoch 4/10. Iteration 4/5. Loss: 80708796847.16. Accuracy: 0.54\n",
      "[train] Epoch 5/10. Iteration 0/5. Loss: 4.91. Accuracy: 0.33\n",
      "[train] Epoch 5/10. Iteration 1/5. Loss: 2.66. Accuracy: 0.54\n",
      "[train] Epoch 5/10. Iteration 2/5. Loss: 1.96. Accuracy: 0.61\n",
      "[train] Epoch 5/10. Iteration 3/5. Loss: 1.60. Accuracy: 0.67\n",
      "[train] Epoch 5/10. Iteration 4/5. Loss: 1.64. Accuracy: 0.65\n",
      "[train] Epoch 5/10. Iteration 4/5. Loss: 1.64. Accuracy: 0.65\n",
      "[test] Epoch 5/10. Iteration 0/5. Loss: 14781506560.00. Accuracy: 0.42\n",
      "[test] Epoch 5/10. Iteration 1/5. Loss: 11666687232.00. Accuracy: 0.54\n",
      "[test] Epoch 5/10. Iteration 2/5. Loss: 12053726037.33. Accuracy: 0.53\n",
      "[test] Epoch 5/10. Iteration 3/5. Loss: 11712753536.00. Accuracy: 0.54\n",
      "[test] Epoch 5/10. Iteration 4/5. Loss: 11624972449.68. Accuracy: 0.54\n",
      "[test] Epoch 5/10. Iteration 4/5. Loss: 11624972449.68. Accuracy: 0.54\n",
      "[train] Epoch 6/10. Iteration 0/5. Loss: 2.70. Accuracy: 0.42\n",
      "[train] Epoch 6/10. Iteration 1/5. Loss: 1.69. Accuracy: 0.54\n",
      "[train] Epoch 6/10. Iteration 2/5. Loss: 1.47. Accuracy: 0.56\n",
      "[train] Epoch 6/10. Iteration 3/5. Loss: 1.21. Accuracy: 0.60\n",
      "[train] Epoch 6/10. Iteration 4/5. Loss: 1.19. Accuracy: 0.56\n",
      "[train] Epoch 6/10. Iteration 4/5. Loss: 1.19. Accuracy: 0.56\n",
      "[test] Epoch 6/10. Iteration 0/5. Loss: 822836672.00. Accuracy: 0.42\n",
      "[test] Epoch 6/10. Iteration 1/5. Loss: 588010656.00. Accuracy: 0.54\n",
      "[test] Epoch 6/10. Iteration 2/5. Loss: 568599402.67. Accuracy: 0.53\n",
      "[test] Epoch 6/10. Iteration 3/5. Loss: 536819728.00. Accuracy: 0.54\n",
      "[test] Epoch 6/10. Iteration 4/5. Loss: 569521519.16. Accuracy: 0.54\n",
      "[test] Epoch 6/10. Iteration 4/5. Loss: 569521519.16. Accuracy: 0.54\n",
      "[train] Epoch 7/10. Iteration 0/5. Loss: 0.87. Accuracy: 0.50\n",
      "[train] Epoch 7/10. Iteration 1/5. Loss: 0.84. Accuracy: 0.50\n",
      "[train] Epoch 7/10. Iteration 2/5. Loss: 0.72. Accuracy: 0.58\n",
      "[train] Epoch 7/10. Iteration 3/5. Loss: 0.64. Accuracy: 0.62\n",
      "[train] Epoch 7/10. Iteration 4/5. Loss: 0.67. Accuracy: 0.63\n",
      "[train] Epoch 7/10. Iteration 4/5. Loss: 0.67. Accuracy: 0.63\n",
      "[test] Epoch 7/10. Iteration 0/5. Loss: 1022591680.00. Accuracy: 0.42\n",
      "[test] Epoch 7/10. Iteration 1/5. Loss: 801313152.00. Accuracy: 0.54\n",
      "[test] Epoch 7/10. Iteration 2/5. Loss: 824226048.00. Accuracy: 0.53\n",
      "[test] Epoch 7/10. Iteration 3/5. Loss: 799430320.00. Accuracy: 0.54\n",
      "[test] Epoch 7/10. Iteration 4/5. Loss: 796902571.79. Accuracy: 0.54\n",
      "[test] Epoch 7/10. Iteration 4/5. Loss: 796902571.79. Accuracy: 0.54\n",
      "[train] Epoch 8/10. Iteration 0/5. Loss: 0.63. Accuracy: 0.75\n",
      "[train] Epoch 8/10. Iteration 1/5. Loss: 0.75. Accuracy: 0.58\n",
      "[train] Epoch 8/10. Iteration 2/5. Loss: 0.60. Accuracy: 0.69\n",
      "[train] Epoch 8/10. Iteration 3/5. Loss: 0.60. Accuracy: 0.71\n",
      "[train] Epoch 8/10. Iteration 4/5. Loss: 0.58. Accuracy: 0.74\n",
      "[train] Epoch 8/10. Iteration 4/5. Loss: 0.58. Accuracy: 0.74\n",
      "[test] Epoch 8/10. Iteration 0/5. Loss: 510181504.00. Accuracy: 0.42\n",
      "[test] Epoch 8/10. Iteration 1/5. Loss: 403396912.00. Accuracy: 0.54\n",
      "[test] Epoch 8/10. Iteration 2/5. Loss: 417237408.00. Accuracy: 0.53\n",
      "[test] Epoch 8/10. Iteration 3/5. Loss: 405619384.00. Accuracy: 0.54\n",
      "[test] Epoch 8/10. Iteration 4/5. Loss: 402147378.53. Accuracy: 0.54\n",
      "[test] Epoch 8/10. Iteration 4/5. Loss: 402147378.53. Accuracy: 0.54\n",
      "[train] Epoch 9/10. Iteration 0/5. Loss: 0.11. Accuracy: 1.00\n",
      "[train] Epoch 9/10. Iteration 1/5. Loss: 0.34. Accuracy: 0.88\n",
      "[train] Epoch 9/10. Iteration 2/5. Loss: 0.38. Accuracy: 0.83\n",
      "[train] Epoch 9/10. Iteration 3/5. Loss: 0.47. Accuracy: 0.79\n",
      "[train] Epoch 9/10. Iteration 4/5. Loss: 0.52. Accuracy: 0.77\n",
      "[train] Epoch 9/10. Iteration 4/5. Loss: 0.52. Accuracy: 0.77\n",
      "[test] Epoch 9/10. Iteration 0/5. Loss: 258057200.00. Accuracy: 0.42\n",
      "[test] Epoch 9/10. Iteration 1/5. Loss: 204128752.00. Accuracy: 0.54\n",
      "[test] Epoch 9/10. Iteration 2/5. Loss: 211185973.33. Accuracy: 0.53\n",
      "[test] Epoch 9/10. Iteration 3/5. Loss: 205327060.00. Accuracy: 0.54\n",
      "[test] Epoch 9/10. Iteration 4/5. Loss: 203519038.32. Accuracy: 0.54\n",
      "[test] Epoch 9/10. Iteration 4/5. Loss: 203519038.32. Accuracy: 0.54\n",
      "[train] Epoch 10/10. Iteration 0/5. Loss: 0.80. Accuracy: 0.67\n",
      "[train] Epoch 10/10. Iteration 1/5. Loss: 0.78. Accuracy: 0.67\n",
      "[train] Epoch 10/10. Iteration 2/5. Loss: 0.70. Accuracy: 0.72\n",
      "[train] Epoch 10/10. Iteration 3/5. Loss: 0.64. Accuracy: 0.75\n",
      "[train] Epoch 10/10. Iteration 4/5. Loss: 0.62. Accuracy: 0.75\n",
      "[train] Epoch 10/10. Iteration 4/5. Loss: 0.62. Accuracy: 0.75\n",
      "[test] Epoch 10/10. Iteration 0/5. Loss: 128000600.00. Accuracy: 0.42\n",
      "[test] Epoch 10/10. Iteration 1/5. Loss: 101548696.00. Accuracy: 0.54\n",
      "[test] Epoch 10/10. Iteration 2/5. Loss: 105247504.00. Accuracy: 0.53\n",
      "[test] Epoch 10/10. Iteration 3/5. Loss: 102403354.00. Accuracy: 0.54\n",
      "[test] Epoch 10/10. Iteration 4/5. Loss: 101324552.42. Accuracy: 0.54\n",
      "[test] Epoch 10/10. Iteration 4/5. Loss: 101324552.42. Accuracy: 0.54\n"
     ]
    },
    {
     "data": {
      "image/png": "[encoded data removed]",
      "text/plain": [
       "<Figure size 1800x600 with 2 Axes>"
      ]
     },
     "metadata": {},
     "output_type": "display_data"
    }
   ],
   "source": [
    "classes = {\"num_classes\": len(num_classes)}\n",
    "\n",
    "resnet152_model = resnet.resnet152(pretrained=False, **classes)\n",
    "train_model_iter(\"resnet152\", resnet152_model)"
   ]
  },
  {
   "cell_type": "code",
   "execution_count": 168,
   "id": "9b3b47ec",
   "metadata": {},
   "outputs": [],
   "source": [
    "model_name=\"resnet152\"\n",
    "model=resnet152_model"
   ]
  },
  {
   "cell_type": "code",
   "execution_count": 169,
   "id": "b1b39408",
   "metadata": {},
   "outputs": [],
   "source": [
    "def test_sample(image_path, model=model, model_name=model_name):\n",
    "    im = Image.open(image_path).convert(\"RGB\")\n",
    "    im = transform(im)\n",
    "\n",
    "    if USE_CUDA and cuda_available:\n",
    "        model = model.cuda()\n",
    "    model.eval()\n",
    "\n",
    "    x = Variable(im.unsqueeze(0))\n",
    "\n",
    "    if USE_CUDA and cuda_available:\n",
    "        x = x.cuda()\n",
    "        pred = model(x).data.cuda().cpu().numpy().copy()\n",
    "    else:\n",
    "        pred = model(x).data.numpy().copy()\n",
    "\n",
    "    #print (pred)\n",
    "\n",
    "    idx_max_pred = np.argmax(pred)\n",
    "    idx_classes = idx_max_pred % classes[\"num_classes\"]\n",
    "    #print(get_class(idx_classes))\n",
    "    return get_class(idx_classes)"
   ]
  },
  {
   "cell_type": "code",
   "execution_count": 170,
   "id": "502d8fd6",
   "metadata": {},
   "outputs": [
    {
     "data": {
      "text/plain": [
       "'honda_accord_2015'"
      ]
     },
     "execution_count": 170,
     "metadata": {},
     "output_type": "execute_result"
    }
   ],
   "source": [
    "test_sample(\"C:/Users/Sushant/CarREc/data/honda_accord_2015/2015_Honda_Accord_00A0A_7cURT903w0c_600x450.jpg\")"
   ]
  },
  {
   "cell_type": "code",
   "execution_count": 171,
   "id": "406f4045",
   "metadata": {},
   "outputs": [
    {
     "data": {
      "text/plain": [
       "'honda_accord_2015'"
      ]
     },
     "execution_count": 171,
     "metadata": {},
     "output_type": "execute_result"
    }
   ],
   "source": [
    "test_sample(\"C:/Users/Sushant/CarREc/data/honda_civic_2014/2014_Honda_Civic_Exl_00T0T_1nmOgf2jLTm_600x450.jpg\")"
   ]
  },
  {
   "cell_type": "code",
   "execution_count": null,
   "id": "01650cde",
   "metadata": {},
   "outputs": [],
   "source": []
  }
 ],
 "metadata": {
  "kernelspec": {
   "display_name": "Python 3 (ipykernel)",
   "language": "python",
   "name": "python3"
  },
  "language_info": {
   "codemirror_mode": {
    "name": "ipython",
    "version": 3
   },
   "file_extension": ".py",
   "mimetype": "text/x-python",
   "name": "python",
   "nbconvert_exporter": "python",
   "pygments_lexer": "ipython3",
   "version": "3.11.3"
  }
 },
 "nbformat": 4,
 "nbformat_minor": 5
}
