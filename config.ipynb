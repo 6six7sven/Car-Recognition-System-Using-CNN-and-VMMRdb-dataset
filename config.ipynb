{
 "cells": [
  {
   "cell_type": "code",
   "execution_count": 1,
   "id": "bdd3bbba",
   "metadata": {},
   "outputs": [],
   "source": [
    "DEBUG = False\n",
    "\n",
    "# training\n",
    "EPOCHS = 10\n",
    "MOMENTUM = 0.9\n",
    "LEARNING_RATE = 0.01\n",
    "BATCH_SIZE = 10\n",
    "THREADS = 8\n",
    "\n",
    "USE_CUDA=True\n",
    "\n",
    "# file paths\n",
    "IMAGES_PATH = \"C:/Users/Sushant/CarREc/data\"\n",
    "TRAINING_PATH = \"C:/Users/Sushant/CarREc/Car-Model-Recognition/train_file.csv\"\n",
    "VALIDATION_PATH = \"C:/Users/Sushant/CarREc/Car-Model-Recognition/test_file.csv\"\n",
    "TEST_PATH = \"C:/Users/Sushant/CarREc/Car-Model-Recognition/test_file.csv\"\n",
    "\n",
    "RESULTS_PATH=\"C:/Users/Sushant/CarREc/Car-Model-Recognition/results\""
   ]
  },
  {
   "cell_type": "code",
   "execution_count": null,
   "id": "aecaedda",
   "metadata": {},
   "outputs": [],
   "source": []
  }
 ],
 "metadata": {
  "kernelspec": {
   "display_name": "Python 3 (ipykernel)",
   "language": "python",
   "name": "python3"
  },
  "language_info": {
   "codemirror_mode": {
    "name": "ipython",
    "version": 3
   },
   "file_extension": ".py",
   "mimetype": "text/x-python",
   "name": "python",
   "nbconvert_exporter": "python",
   "pygments_lexer": "ipython3",
   "version": "3.11.3"
  }
 },
 "nbformat": 4,
 "nbformat_minor": 5
}
